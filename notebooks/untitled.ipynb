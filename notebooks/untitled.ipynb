{
 "cells": [
  {
   "cell_type": "code",
   "execution_count": 1,
   "metadata": {
    "collapsed": true,
    "pycharm": {
     "name": "#%%\n"
    }
   },
   "outputs": [],
   "source": [
    "import numpy as np"
   ]
  },
  {
   "cell_type": "code",
   "execution_count": 3,
   "outputs": [
    {
     "data": {
      "text/plain": "array([[ 4.85988829e-01, -2.35444722e-03,  2.64249329e-01,\n         8.92120873e-01,  3.67852397e-01],\n       [ 1.76581447e-01,  5.57650076e-05,  2.48719983e-02,\n         9.74543258e-01,  1.46747274e-01],\n       [ 7.42214070e-01, -7.60145688e-04,  3.64538825e-01,\n         9.82884631e-01,  1.19278116e-01],\n       ...,\n       [ 2.44508959e-01,  2.13707032e-04,  7.17504815e-01,\n         9.89745742e-01,  1.18195237e-01],\n       [ 6.04391910e-01,  6.65793932e-04,  5.96434898e-01,\n         9.83321357e-01,  1.28723781e-01],\n       [ 1.94867661e-01, -2.01279763e-04,  3.22354491e-01,\n         9.76994981e-01,  1.76760929e-01]])"
     },
     "execution_count": 3,
     "metadata": {},
     "output_type": "execute_result"
    }
   ],
   "source": [
    "np.load(\"../data/electricity_nips/train_features_old.npy\")"
   ],
   "metadata": {
    "collapsed": false,
    "pycharm": {
     "name": "#%%\n"
    }
   }
  },
  {
   "cell_type": "code",
   "execution_count": 4,
   "outputs": [
    {
     "data": {
      "text/plain": "array([[ 3.75391932e-01, -1.16555918e-03,  6.31740951e-01,\n         8.97981784e-01],\n       [ 3.41733383e-01,  8.21725181e-04,  2.25359100e-01,\n         9.08965224e-01],\n       [ 5.49130915e-01, -8.07192987e-04,  4.10725280e-01,\n         8.89267724e-01],\n       ...,\n       [ 2.44508959e-01,  2.13707032e-04,  7.17504815e-01,\n         9.89745742e-01],\n       [ 6.04391910e-01,  6.65793932e-04,  5.96434898e-01,\n         9.83321357e-01],\n       [ 1.94867661e-01, -2.01279763e-04,  3.22354491e-01,\n         9.76994981e-01]])"
     },
     "execution_count": 4,
     "metadata": {},
     "output_type": "execute_result"
    }
   ],
   "source": [
    "np.load(\"../data/electricity_nips/train_features.npy\")"
   ],
   "metadata": {
    "collapsed": false,
    "pycharm": {
     "name": "#%%\n"
    }
   }
  },
  {
   "cell_type": "code",
   "execution_count": null,
   "outputs": [],
   "source": [],
   "metadata": {
    "collapsed": false,
    "pycharm": {
     "name": "#%%\n"
    }
   }
  }
 ],
 "metadata": {
  "kernelspec": {
   "display_name": "Python 3",
   "language": "python",
   "name": "python3"
  },
  "language_info": {
   "codemirror_mode": {
    "name": "ipython",
    "version": 2
   },
   "file_extension": ".py",
   "mimetype": "text/x-python",
   "name": "python",
   "nbconvert_exporter": "python",
   "pygments_lexer": "ipython2",
   "version": "2.7.6"
  }
 },
 "nbformat": 4,
 "nbformat_minor": 0
}