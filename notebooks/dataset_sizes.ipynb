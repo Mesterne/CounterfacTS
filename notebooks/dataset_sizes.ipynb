{
 "cells": [
  {
   "cell_type": "code",
   "execution_count": 1,
   "id": "544afdce-9863-4039-a19a-558cc906f5cc",
   "metadata": {},
   "outputs": [],
   "source": [
    "import os\n",
    "import sys\n",
    "\n",
    "os.chdir(\"..\")\n",
    "sys.path.append(\"..\")"
   ]
  },
  {
   "cell_type": "code",
   "execution_count": 2,
   "id": "ca09d2af-bde4-4015-a7d5-56d520509134",
   "metadata": {},
   "outputs": [
    {
     "name": "stderr",
     "output_type": "stream",
     "text": [
      "/home/hakon/miniconda3/envs/whatif/lib/python3.8/site-packages/gluonts/json.py:45: UserWarning: Using `json`-module for json-handling. Consider installing one of `orjson`, `ujson` to speed up serialization and deserialization.\n",
      "  warnings.warn(\n"
     ]
    }
   ],
   "source": [
    "from gluonts.dataset.repository.datasets import get_dataset"
   ]
  },
  {
   "cell_type": "code",
   "execution_count": 3,
   "id": "51c9a9ad-bd5d-4f7a-98aa-e43a24cb8ab0",
   "metadata": {},
   "outputs": [
    {
     "name": "stdout",
     "output_type": "stream",
     "text": [
      "electricity_nips:\n",
      "\t2142282\n",
      "traffic_nips:\n",
      "\t3852963\n",
      "m4_hourly:\n",
      "\t353500\n",
      "m4_daily:\n",
      "\t9964658\n",
      "m4_monthly:\n",
      "\t10382411\n",
      "m4_quarterly:\n",
      "\t2214108\n"
     ]
    }
   ],
   "source": [
    "dataset_names = [\"electricity_nips\", \"traffic_nips\", \"m4_hourly\", \"m4_daily\", \"m4_monthly\", \"m4_quarterly\"]\n",
    "for name in dataset_names:\n",
    "    ts_lengths = [len(ts[\"target\"]) for ts in get_dataset(name).train]\n",
    "    print(f\"{name}:\\n\\t{sum(ts_lengths)}\")"
   ]
  },
  {
   "cell_type": "code",
   "execution_count": 4,
   "id": "4fe5ac0a-4588-4043-971c-2bcfb31ac5d6",
   "metadata": {},
   "outputs": [
    {
     "name": "stdout",
     "output_type": "stream",
     "text": [
      "electricity_nips\n",
      "freq='H' target=None feat_static_cat=[CategoricalFeatureInfo(name='feat_static_cat', cardinality='370')] feat_static_real=[] feat_dynamic_real=[] feat_dynamic_cat=[] prediction_length=24\n",
      "traffic_nips\n",
      "freq='H' target=None feat_static_cat=[CategoricalFeatureInfo(name='feat_static_cat', cardinality='963')] feat_static_real=[] feat_dynamic_real=[] feat_dynamic_cat=[] prediction_length=24\n",
      "exchange_rate_nips\n",
      "freq='B' target=None feat_static_cat=[CategoricalFeatureInfo(name='feat_static_cat', cardinality='8')] feat_static_real=[] feat_dynamic_real=[] feat_dynamic_cat=[] prediction_length=30\n",
      "solar_nips\n",
      "freq='H' target=None feat_static_cat=[CategoricalFeatureInfo(name='feat_static_cat', cardinality='137')] feat_static_real=[] feat_dynamic_real=[] feat_dynamic_cat=[] prediction_length=24\n"
     ]
    }
   ],
   "source": [
    "dataset_names = [\"electricity_nips\", \"traffic_nips\", \"exchange_rate_nips\", \"solar_nips\"]\n",
    "for name in dataset_names:\n",
    "    print(name)\n",
    "    print(get_dataset(name).metadata)"
   ]
  },
  {
   "cell_type": "code",
   "execution_count": 4,
   "id": "e0721024-8a4a-4a68-bbcf-0e766dc88068",
   "metadata": {},
   "outputs": [],
   "source": []
  }
 ],
 "metadata": {
  "kernelspec": {
   "display_name": "Python 3",
   "language": "python",
   "name": "python3"
  },
  "language_info": {
   "codemirror_mode": {
    "name": "ipython",
    "version": 3
   },
   "file_extension": ".py",
   "mimetype": "text/x-python",
   "name": "python",
   "nbconvert_exporter": "python",
   "pygments_lexer": "ipython3",
   "version": "3.8.8"
  }
 },
 "nbformat": 4,
 "nbformat_minor": 5
}
