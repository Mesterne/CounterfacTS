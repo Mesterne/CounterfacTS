{
 "cells": [
  {
   "cell_type": "code",
   "execution_count": 1,
   "id": "c0b0739e-246a-48db-a313-7698a501d952",
   "metadata": {},
   "outputs": [],
   "source": [
    "import os\n",
    "import sys\n",
    "\n",
    "os.chdir(\"..\")\n",
    "sys.path.append(\"..\")"
   ]
  },
  {
   "cell_type": "code",
   "execution_count": 2,
   "id": "1293f23a-3d55-4dd6-8e95-3d20cc6c15ae",
   "metadata": {},
   "outputs": [
    {
     "name": "stderr",
     "output_type": "stream",
     "text": [
      "/anaconda/envs/whatif/lib/python3.8/site-packages/gluonts/json.py:45: UserWarning: Using `json`-module for json-handling. Consider installing one of `orjson`, `ujson` to speed up serialization and deserialization.\n",
      "  warnings.warn(\n"
     ]
    }
   ],
   "source": [
    "import yaml\n",
    "\n",
    "import matplotlib.pyplot as plt\n",
    "import numpy as np\n",
    "import pandas as pd\n",
    "\n",
    "\n",
    "from sklearn.decomposition import PCA\n",
    "from sklearn.preprocessing import StandardScaler\n",
    "from statsmodels.tsa.seasonal import STL\n",
    "from tqdm import tqdm\n",
    "\n",
    "from src.utils.data_loading import load_features, load_score, load_test_data\n",
    "from src.utils.features import decomps_and_features\n",
    "from src.utils.transformations import manipulate_trend_component, manipulate_seasonal_determination"
   ]
  },
  {
   "cell_type": "code",
   "execution_count": 3,
   "id": "8d0c1034-d5a3-40f1-9d55-42ada56cbfab",
   "metadata": {},
   "outputs": [],
   "source": [
    "model_name = \"nbeats_g\"\n",
    "datasets = [\"electricity_nips\", \"traffic_nips\", \"m4_yearly\", \"m4_quarterly\", \"m4_monthly\", \"m4_weekly\", \"m4_daily\", \"m4_hourly\"]\n",
    "\n",
    "outliers = {\"electricity_nips\": [341, 2111, 1189],\n",
    "            \"traffic_nips\": [3237, 6049, 2017],\n",
    "            \"m4_yearly\": [21379, 9541, 21725],\n",
    "            \"m4_quarterly\": [6994, 20436, 7675],\n",
    "            \"m4_monthly\": [42375, 16951, 9931],\n",
    "            \"m4_weekly\": [295, 75, 285],\n",
    "            \"m4_daily\": [165, 139, 3051],\n",
    "            \"m4_hourly\": [222, 348, 340]}\n",
    "\n",
    "inliers = {\"electricity_nips\": [608, 2044, 557],\n",
    "           \"traffic_nips\": [4320, 0, 3616],\n",
    "           \"m4_yearly\": [6957, 11749, 5772],\n",
    "           \"m4_quarterly\": [15590, 3862, 11207],\n",
    "           \"m4_monthly\": [39879, 29735, 29960],\n",
    "           \"m4_weekly\": [157, 291, 98],\n",
    "           \"m4_daily\": [2153, 3295, 3245],\n",
    "           \"m4_hourly\": [207, 120, 140]}"
   ]
  },
  {
   "cell_type": "code",
   "execution_count": 4,
   "id": "aa9589f4-6599-4f99-bc96-4d4245686adf",
   "metadata": {},
   "outputs": [],
   "source": [
    "def plot_ts(ts, fname, save_dir):\n",
    "    plt.plot(ts)\n",
    "    plt.xticks([])\n",
    "    plt.yticks([])\n",
    "    plt.savefig(os.path.join(save_dir, f\"{fname}.svg\"))\n",
    "    plt.clf()\n",
    "\n",
    "\n",
    "def plot_instance_space(pca_data, indexes, fname, save_dir):\n",
    "    fig, ax = plt.subplots()\n",
    "    plt.scatter(test_pca_data[:, 0], test_pca_data[:, 1], s=5, alpha=0.5, color=\"C0\")\n",
    "    for idx in indexes:\n",
    "        plt.scatter(test_pca_data[idx, 0], test_pca_data[idx, 1], s=5, alpha=1, color=\"C1\")\n",
    "    \n",
    "    plt.savefig(os.path.join(save_dir, f\"{fname}.svg\"))\n",
    "    plt.clf()\n",
    "    \n",
    "    # plot again and label the positions of outliers and inliers\n",
    "    fig, ax = plt.subplots()\n",
    "    plt.scatter(test_pca_data[:, 0], test_pca_data[:, 1], s=5, alpha=0.5, color=\"C0\")\n",
    "    for idx in indexes:\n",
    "        plt.scatter(test_pca_data[idx, 0], test_pca_data[idx, 1], s=5, alpha=1, color=\"C1\")\n",
    "    \n",
    "    labels = [\"a\", \"b\", \"c\", \"d\", \"e\", \"f\"]\n",
    "    for idx, label in zip(indexes, labels):\n",
    "        ax.annotate(label, (test_pca_data[idx, 0], test_pca_data[idx, 1]))\n",
    "    \n",
    "    plt.savefig(os.path.join(save_dir, f\"{fname}_labeled.svg\"))\n",
    "    plt.clf()"
   ]
  },
  {
   "cell_type": "code",
   "execution_count": 5,
   "id": "2dba3197-2dcf-4b59-8862-ca9dbd235bbe",
   "metadata": {},
   "outputs": [
    {
     "name": "stderr",
     "output_type": "stream",
     "text": [
      "  0%|          | 0/2590 [00:00<?, ?it/s]"
     ]
    },
    {
     "name": "stdout",
     "output_type": "stream",
     "text": [
      "Loading test data\n"
     ]
    },
    {
     "name": "stderr",
     "output_type": "stream",
     "text": [
      "100%|██████████| 2590/2590 [00:03<00:00, 860.13it/s]\n",
      "  0%|          | 0/6741 [00:00<?, ?it/s]"
     ]
    },
    {
     "name": "stdout",
     "output_type": "stream",
     "text": [
      "Loading test data\n"
     ]
    },
    {
     "name": "stderr",
     "output_type": "stream",
     "text": [
      "100%|██████████| 6741/6741 [00:06<00:00, 989.40it/s] \n",
      "  1%|          | 243/23000 [00:00<00:09, 2420.31it/s]"
     ]
    },
    {
     "name": "stdout",
     "output_type": "stream",
     "text": [
      "Loading test data\n"
     ]
    },
    {
     "name": "stderr",
     "output_type": "stream",
     "text": [
      "100%|██████████| 23000/23000 [00:10<00:00, 2161.14it/s]\n",
      "  1%|          | 147/24000 [00:00<00:16, 1464.27it/s]"
     ]
    },
    {
     "name": "stdout",
     "output_type": "stream",
     "text": [
      "Loading test data\n"
     ]
    },
    {
     "name": "stderr",
     "output_type": "stream",
     "text": [
      "100%|██████████| 24000/24000 [00:13<00:00, 1768.32it/s]\n",
      "  0%|          | 116/48000 [00:00<00:41, 1156.36it/s]"
     ]
    },
    {
     "name": "stdout",
     "output_type": "stream",
     "text": [
      "Loading test data\n"
     ]
    },
    {
     "name": "stderr",
     "output_type": "stream",
     "text": [
      "100%|██████████| 48000/48000 [00:45<00:00, 1058.54it/s]\n",
      " 32%|███▏      | 115/359 [00:00<00:00, 1144.48it/s]"
     ]
    },
    {
     "name": "stdout",
     "output_type": "stream",
     "text": [
      "Loading test data\n"
     ]
    },
    {
     "name": "stderr",
     "output_type": "stream",
     "text": [
      "100%|██████████| 359/359 [00:00<00:00, 1177.93it/s]\n",
      "  6%|▌         | 233/4227 [00:00<00:01, 2328.53it/s]"
     ]
    },
    {
     "name": "stdout",
     "output_type": "stream",
     "text": [
      "Loading test data\n"
     ]
    },
    {
     "name": "stderr",
     "output_type": "stream",
     "text": [
      "100%|██████████| 4227/4227 [00:03<00:00, 1366.43it/s]\n",
      "100%|██████████| 414/414 [00:00<00:00, 2473.99it/s]"
     ]
    },
    {
     "name": "stdout",
     "output_type": "stream",
     "text": [
      "Loading test data\n"
     ]
    },
    {
     "name": "stderr",
     "output_type": "stream",
     "text": [
      "\n"
     ]
    },
    {
     "data": {
      "text/plain": [
       "<Figure size 432x288 with 0 Axes>"
      ]
     },
     "metadata": {},
     "output_type": "display_data"
    },
    {
     "data": {
      "text/plain": [
       "<Figure size 432x288 with 0 Axes>"
      ]
     },
     "metadata": {},
     "output_type": "display_data"
    },
    {
     "data": {
      "text/plain": [
       "<Figure size 432x288 with 0 Axes>"
      ]
     },
     "metadata": {},
     "output_type": "display_data"
    },
    {
     "data": {
      "text/plain": [
       "<Figure size 432x288 with 0 Axes>"
      ]
     },
     "metadata": {},
     "output_type": "display_data"
    },
    {
     "data": {
      "text/plain": [
       "<Figure size 432x288 with 0 Axes>"
      ]
     },
     "metadata": {},
     "output_type": "display_data"
    },
    {
     "data": {
      "text/plain": [
       "<Figure size 432x288 with 0 Axes>"
      ]
     },
     "metadata": {},
     "output_type": "display_data"
    },
    {
     "data": {
      "text/plain": [
       "<Figure size 432x288 with 0 Axes>"
      ]
     },
     "metadata": {},
     "output_type": "display_data"
    },
    {
     "data": {
      "text/plain": [
       "<Figure size 432x288 with 0 Axes>"
      ]
     },
     "metadata": {},
     "output_type": "display_data"
    },
    {
     "data": {
      "text/plain": [
       "<Figure size 432x288 with 0 Axes>"
      ]
     },
     "metadata": {},
     "output_type": "display_data"
    },
    {
     "data": {
      "text/plain": [
       "<Figure size 432x288 with 0 Axes>"
      ]
     },
     "metadata": {},
     "output_type": "display_data"
    },
    {
     "data": {
      "text/plain": [
       "<Figure size 432x288 with 0 Axes>"
      ]
     },
     "metadata": {},
     "output_type": "display_data"
    },
    {
     "data": {
      "text/plain": [
       "<Figure size 432x288 with 0 Axes>"
      ]
     },
     "metadata": {},
     "output_type": "display_data"
    },
    {
     "data": {
      "text/plain": [
       "<Figure size 432x288 with 0 Axes>"
      ]
     },
     "metadata": {},
     "output_type": "display_data"
    },
    {
     "data": {
      "text/plain": [
       "<Figure size 432x288 with 0 Axes>"
      ]
     },
     "metadata": {},
     "output_type": "display_data"
    },
    {
     "data": {
      "text/plain": [
       "<Figure size 432x288 with 0 Axes>"
      ]
     },
     "metadata": {},
     "output_type": "display_data"
    },
    {
     "data": {
      "text/plain": [
       "<Figure size 432x288 with 0 Axes>"
      ]
     },
     "metadata": {},
     "output_type": "display_data"
    },
    {
     "data": {
      "text/plain": [
       "<Figure size 432x288 with 0 Axes>"
      ]
     },
     "metadata": {},
     "output_type": "display_data"
    }
   ],
   "source": [
    "for dataset in datasets:\n",
    "    datadir = f\"data/{dataset}\"\n",
    "    experiment_dir = f\"experiments/{dataset}/{model_name}\"\n",
    "    save_dir = f\"./figures/timeseries/{dataset}\"\n",
    "    if not os.path.isdir(save_dir):\n",
    "        os.makedirs(save_dir, exist_ok=True)\n",
    "    \n",
    "    with open(os.path.join(experiment_dir, \"config.yaml\"), \"r\") as f:\n",
    "        config = yaml.load(f, Loader=yaml.FullLoader)\n",
    "        \n",
    "    train_features = load_features(datadir, train=True)\n",
    "    test_features = load_features(datadir, train=False)\n",
    "    test_data = load_test_data(dataset, config[\"context_length\"] + config[\"prediction_length\"])\n",
    "    \n",
    "    scaler = StandardScaler()\n",
    "    norm_train_features = scaler.fit_transform(train_features)\n",
    "    norm_test_features = scaler.transform(test_features)\n",
    "\n",
    "    pca = PCA(n_components=2)\n",
    "    train_pca_data = pca.fit_transform(norm_train_features)\n",
    "    test_pca_data = pca.transform(norm_test_features)\n",
    "    \n",
    "    outlier_idx = []\n",
    "    for label, outlier in zip([\"a\", \"b\", \"c\"], outliers[dataset]):\n",
    "        outlier_idx.append(outlier)\n",
    "        plot_ts(test_data[outlier], f\"{label}_{outlier}\", save_dir)\n",
    "    \n",
    "    inlier_idx = []\n",
    "    for label, inlier in zip([\"d\", \"e\", \"f\"], inliers[dataset]):\n",
    "        inlier_idx.append(inlier)\n",
    "        plot_ts(test_data[inlier], f\"{label}_{inlier}\", save_dir)\n",
    "    \n",
    "    indexes = [*outlier_idx, *inlier_idx]\n",
    "    plot_instance_space(test_pca_data, indexes, \"instance_space\", save_dir)"
   ]
  },
  {
   "cell_type": "code",
   "execution_count": 6,
   "id": "aab40a53-6664-4786-b527-648297d2f1da",
   "metadata": {},
   "outputs": [],
   "source": [
    "def create_plot(ts1, ts2, fname, savedir):\n",
    "    plt.draw()\n",
    "    fig, (ax1, ax2)= plt.subplots(1, 2, figsize=(20, 10))\n",
    "    ax1.plot(ts1)\n",
    "    ax1.set_xticks([])\n",
    "    ax2.plot(ts2)\n",
    "    ax2.set_xticks([])\n",
    "    \n",
    "    plt.savefig(os.path.join(save_dir, f\"{fname}_comparison.svg\"))\n",
    "    plt.clf()"
   ]
  },
  {
   "cell_type": "code",
   "execution_count": 8,
   "id": "20a9eb88-bd4b-4f41-a261-66c37dbabf79",
   "metadata": {
    "tags": []
   },
   "outputs": [
    {
     "name": "stderr",
     "output_type": "stream",
     "text": [
      " 29%|██▊       | 118/414 [00:00<00:00, 1121.13it/s]"
     ]
    },
    {
     "name": "stdout",
     "output_type": "stream",
     "text": [
      "Loading test data\n"
     ]
    },
    {
     "name": "stderr",
     "output_type": "stream",
     "text": [
      "100%|██████████| 414/414 [00:00<00:00, 1223.72it/s]\n"
     ]
    },
    {
     "data": {
      "text/plain": [
       "<Figure size 432x288 with 0 Axes>"
      ]
     },
     "metadata": {},
     "output_type": "display_data"
    },
    {
     "data": {
      "text/plain": [
       "<Figure size 1440x720 with 0 Axes>"
      ]
     },
     "metadata": {},
     "output_type": "display_data"
    },
    {
     "data": {
      "text/plain": [
       "<Figure size 1440x720 with 0 Axes>"
      ]
     },
     "metadata": {},
     "output_type": "display_data"
    },
    {
     "data": {
      "text/plain": [
       "<Figure size 1440x720 with 0 Axes>"
      ]
     },
     "metadata": {},
     "output_type": "display_data"
    }
   ],
   "source": [
    "dataset_transforms = {\"electricity_nips\": [\"seas_dec\", \"slope_inc\"],\n",
    "                      \"traffic_nips\": [\"seas_dec\", \"slope_inc\", \"slope_dec\"],\n",
    "                      \"m4_yearly\": [\"slope_inc\", \"slope_dec\"],\n",
    "                      \"m4_quarterly\": [\"seas_inc\", \"str_dec\"],\n",
    "                      \"m4_monthly\": [\"str_dec\", \"slope_dec\"],\n",
    "                      \"m4_weekly\": [\"slope_inc\", \"slope_dec\"],\n",
    "                      \"m4_daily\": [\"seas_inc\", \"slope_dec\", \"slope_inc\"],\n",
    "                      \"m4_hourly\": [\"slope_inc\", \"slope_dec\"]}\n",
    "\n",
    "targets = {\"electricity_nips\": [1213, 2111],\n",
    "           \"traffic_nips\": [5086, 2017],\n",
    "           \"m4_yearly\": [9541, 21379],\n",
    "           \"m4_quarterly\": [20436, 7675],\n",
    "           \"m4_monthly\": [42375, 9931],\n",
    "           \"m4_weekly\": [75, 285],\n",
    "           \"m4_daily\": [165, 139],\n",
    "           \"m4_hourly\": [348, 340, 186]}\n",
    "\n",
    "source_transform = {\"electricity_nips\": {0: dict(f=1, h=0.01, k=2.1, m=0), 10: dict(f=1, h=0.2, k=0.3, m=1)},\n",
    "                    \"traffic_nips\": {0: dict(f=0.4, h=1, k=0.19, m=0.15), 10: dict(f=3, h=5, k=0.7, m=-0.2)},\n",
    "                    \"m4_yearly\": {0: dict(f=1, h=1, k=1, m=-0.85), 1: dict(f=1.04, h=0.23, k=1, m=-0.95)},\n",
    "                    \"m4_quarterly\": {0: dict(f=0.04, h=1, k=2, m=0), 20537: dict(f=1, h=1, k=5, m=1)},\n",
    "                    \"m4_monthly\": {1: dict(f=0.01, h=1, k=1, m=0), 0: dict(f=1, h=1, k=1, m=-0.2)},\n",
    "                    \"m4_weekly\": {0: dict(f=1, h=0.4, k=1, m=-0.4), 1: dict(f=1, h=1, k=1, m=0.25)},\n",
    "                    \"m4_daily\": {0: dict(f=10, h=1, k=1, m=1), 1: dict(f=0.04, h=0.2, k=0.63, m=0)},\n",
    "                    \"m4_hourly\": {0: dict(f=1, h=0.1, k=1, m=-0.3), \"0\": dict(f=1, h=0.07, k=1, m=0.8), 178: dict(f=1, h=1, k=0.01, m=0)}}\n",
    "\n",
    "datasets = [\"m4_hourly\"]\n",
    "\n",
    "for dataset in datasets:\n",
    "    datadir = f\"data/{dataset}\"\n",
    "    experiment_dir = f\"experiments/{dataset}/{model_name}\"\n",
    "    save_dir = f\"./figures/timeseries/{dataset}\"\n",
    "    if not os.path.isdir(save_dir):\n",
    "        os.makedirs(save_dir, exist_ok=True)\n",
    "    \n",
    "    with open(os.path.join(experiment_dir, \"config.yaml\"), \"r\") as f:\n",
    "        config = yaml.load(f, Loader=yaml.FullLoader)\n",
    "        \n",
    "    train_features = load_features(datadir, train=True)\n",
    "    test_features = load_features(datadir, train=False)\n",
    "    test_data = load_test_data(dataset, config[\"context_length\"] + config[\"prediction_length\"])\n",
    "    \n",
    "    scaler = StandardScaler()\n",
    "    norm_train_features = scaler.fit_transform(train_features)\n",
    "    norm_test_features = scaler.transform(test_features)\n",
    "\n",
    "    pca = PCA(n_components=2)\n",
    "    train_pca_data = pca.fit_transform(norm_train_features)\n",
    "    test_pca_data = pca.transform(norm_test_features)\n",
    "    \n",
    "    for target, source in zip(targets[dataset], source_transform[dataset]):\n",
    "        target_ts = test_data[target]\n",
    "        source_ts = test_data[int(source)]\n",
    "        decomp = decomps_and_features([source_ts], config[\"sp\"])[0][0]\n",
    "        \n",
    "        f = source_transform[dataset][source][\"f\"]\n",
    "        h = source_transform[dataset][source][\"h\"]\n",
    "        m = source_transform[dataset][source][\"m\"] / len(target_ts)\n",
    "        k = source_transform[dataset][source][\"k\"]\n",
    "        \n",
    "        generated_ts_trend = manipulate_trend_component(decomp.trend, f=f, h=h, g=1, m=m)\n",
    "        generated_ts_seas = manipulate_seasonal_determination(decomp.seasonal, k=k)\n",
    "        \n",
    "        generated_ts = generated_ts_trend + generated_ts_seas + decomp.resid\n",
    "        create_plot(target_ts, generated_ts, f\"{target}_{source}\", save_dir)"
   ]
  },
  {
   "cell_type": "code",
   "execution_count": null,
   "id": "6d9fde7d-87a7-4c41-8e55-d82c9022c07a",
   "metadata": {},
   "outputs": [],
   "source": []
  }
 ],
 "metadata": {
  "kernelspec": {
   "display_name": "Python 3",
   "language": "python",
   "name": "python3"
  },
  "language_info": {
   "codemirror_mode": {
    "name": "ipython",
    "version": 3
   },
   "file_extension": ".py",
   "mimetype": "text/x-python",
   "name": "python",
   "nbconvert_exporter": "python",
   "pygments_lexer": "ipython3",
   "version": "3.8.8"
  }
 },
 "nbformat": 4,
 "nbformat_minor": 5
}
