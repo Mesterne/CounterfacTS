{
 "cells": [
  {
   "cell_type": "code",
   "execution_count": 1,
   "id": "591789b7-a144-4ea7-8acb-bf6ce2ed22ae",
   "metadata": {},
   "outputs": [],
   "source": [
    "import os\n",
    "import sys\n",
    "\n",
    "os.chdir(\"..\")\n",
    "sys.path.append(\"..\")"
   ]
  },
  {
   "cell_type": "code",
   "execution_count": 10,
   "id": "35b7af43-ce48-4b8f-b7fa-a41923db1508",
   "metadata": {},
   "outputs": [],
   "source": [
    "import yaml\n",
    "\n",
    "import matplotlib.pyplot as plt\n",
    "import numpy as np\n",
    "import torch\n",
    "\n",
    "from sklearn.decomposition import PCA\n",
    "from sklearn.preprocessing import StandardScaler\n",
    "from statsmodels.tsa.seasonal import STL\n",
    "from tqdm import tqdm\n",
    "\n",
    "\n",
    "from src.models.utils import get_model\n",
    "from src.utils.data_loading import load_features, load_test_data, load_score\n",
    "from src.utils.features import decomps_and_features\n",
    "from src.utils.transformations import manipulate_trend_component, manipulate_seasonal_determination"
   ]
  },
  {
   "cell_type": "code",
   "execution_count": 19,
   "id": "7385cbfb-a998-4051-8d28-ac2ae1f6077e",
   "metadata": {},
   "outputs": [],
   "source": [
    "models = [\"feedforward\", \"seq2seq\", \"nbeats_g\", \"tcn\", \"transformer\"]\n",
    "datasets = [\"electricity_nips\", \"traffic_nips\", \"m4_hourly\", \"m4_daily\", \"m4_weekly\", \"m4_monthly\", \"m4_quarterly\", \"m4_yearly\"]"
   ]
  },
  {
   "cell_type": "code",
   "execution_count": 22,
   "id": "6d8d9087-92b9-49e9-919b-2b2b937395bf",
   "metadata": {},
   "outputs": [],
   "source": [
    "num_params = {}\n",
    "\n",
    "for dataset in datasets:\n",
    "    datadir = f\"data/{dataset}\"\n",
    "    num_params[dataset] = {}\n",
    "    for model_name in models:\n",
    "        experiment_dir = f\"experiments/{dataset}/{model_name}\"\n",
    "        \n",
    "        with open(os.path.join(experiment_dir, \"config.yaml\"), \"r\") as f:\n",
    "            config = yaml.load(f, Loader=yaml.FullLoader)\n",
    "            \n",
    "        device = torch.device(\"cuda:0\" if torch.cuda.is_available() else \"cpu\")\n",
    "        model = get_model(config[\"model_name\"])(**config[\"model_args\"], device=device, path=config[\"path\"])\n",
    "        model.load_state_dict(torch.load(os.path.join(config[\"path\"], \"model.pth\")))\n",
    "        \n",
    "        num_params[dataset][model_name] = sum(p.numel() for p in model.parameters() if p.requires_grad)"
   ]
  },
  {
   "cell_type": "code",
   "execution_count": 24,
   "id": "2160fc6a-5277-4557-9ed1-4c7b6c10d96c",
   "metadata": {},
   "outputs": [
    {
     "name": "stdout",
     "output_type": "stream",
     "text": [
      "electricity_nips\n",
      "\tfeedforward: 29424\n",
      "\tseq2seq: 411579\n",
      "\tnbeats_g: 29189760\n",
      "\ttcn: 8107\n",
      "\ttransformer: 23015\n",
      "traffic_nips\n",
      "\tfeedforward: 29424\n",
      "\tseq2seq: 414544\n",
      "\tnbeats_g: 29189760\n",
      "\ttcn: 11072\n",
      "\ttransformer: 25980\n",
      "m4_hourly\n",
      "\tfeedforward: 24648\n",
      "\tseq2seq: 411799\n",
      "\tnbeats_g: 27345120\n",
      "\ttcn: 7527\n",
      "\ttransformer: 23235\n",
      "m4_daily\n",
      "\tfeedforward: 14414\n",
      "\tseq2seq: 430864\n",
      "\tnbeats_g: 24730860\n",
      "\ttcn: 24992\n",
      "\ttransformer: 42300\n",
      "m4_weekly\n",
      "\tfeedforward: 14113\n",
      "\tseq2seq: 411524\n",
      "\tnbeats_g: 24653970\n",
      "\ttcn: 5652\n",
      "\ttransformer: 22960\n",
      "m4_monthly\n",
      "\tfeedforward: 15618\n",
      "\tseq2seq: 649729\n",
      "\tnbeats_g: 25038420\n",
      "\ttcn: 244657\n",
      "\ttransformer: 261165\n",
      "m4_quarterly\n",
      "\tfeedforward: 12608\n",
      "\tseq2seq: 529729\n",
      "\tnbeats_g: 24269520\n",
      "\ttcn: 123057\n",
      "\ttransformer: 141165\n",
      "m4_yearly\n",
      "\tfeedforward: 12006\n",
      "\tseq2seq: 524729\n",
      "\tnbeats_g: 24115740\n",
      "\ttcn: 118057\n",
      "\ttransformer: 136165\n"
     ]
    }
   ],
   "source": [
    "for dataset in num_params:\n",
    "    print(dataset)\n",
    "    for model, num in num_params[dataset].items():\n",
    "        print(f\"\\t{model}: {num}\")"
   ]
  },
  {
   "cell_type": "code",
   "execution_count": null,
   "id": "e9e8b2b7-6943-44f9-a337-fa5b92ed6b8e",
   "metadata": {},
   "outputs": [],
   "source": []
  }
 ],
 "metadata": {
  "kernelspec": {
   "display_name": "Python 3",
   "language": "python",
   "name": "python3"
  },
  "language_info": {
   "codemirror_mode": {
    "name": "ipython",
    "version": 3
   },
   "file_extension": ".py",
   "mimetype": "text/x-python",
   "name": "python",
   "nbconvert_exporter": "python",
   "pygments_lexer": "ipython3",
   "version": "3.8.8"
  }
 },
 "nbformat": 4,
 "nbformat_minor": 5
}
